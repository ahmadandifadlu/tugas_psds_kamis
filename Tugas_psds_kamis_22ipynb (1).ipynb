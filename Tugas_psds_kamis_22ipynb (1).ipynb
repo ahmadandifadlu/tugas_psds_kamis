{
  "nbformat": 4,
  "nbformat_minor": 0,
  "metadata": {
    "colab": {
      "provenance": []
    },
    "kernelspec": {
      "name": "python3",
      "display_name": "Python 3"
    },
    "language_info": {
      "name": "python"
    }
  },
  "cells": [
    {
      "cell_type": "markdown",
      "source": [
        "**STRUKTUR DATA TUPLE**"
      ],
      "metadata": {
        "id": "N7h28oqrlcTu"
      }
    },
    {
      "cell_type": "code",
      "execution_count": null,
      "metadata": {
        "colab": {
          "base_uri": "https://localhost:8080/"
        },
        "id": "FYr8ExCRlHDC",
        "outputId": "1debf557-58f9-441e-f4ad-5afdd226ff36"
      },
      "outputs": [
        {
          "output_type": "stream",
          "name": "stdout",
          "text": [
            "ini adalah tuple (1, 'dua', True, (1+2j))\n"
          ]
        }
      ],
      "source": [
        "#Contoh Tuple\n",
        "T1 = (1, \"dua\", True, 1+2j)\n",
        "print(\"ini adalah tuple\", T1)"
      ]
    },
    {
      "cell_type": "code",
      "source": [
        "  T11 = 1, \"dua\", True, 1+2j\n",
        "  print(\"ini adalah tuple\", T11)"
      ],
      "metadata": {
        "colab": {
          "base_uri": "https://localhost:8080/"
        },
        "id": "l0vb9kBel2qk",
        "outputId": "3c5755f1-280d-4bc7-b7e0-cddcf743f074"
      },
      "execution_count": null,
      "outputs": [
        {
          "output_type": "stream",
          "name": "stdout",
          "text": [
            "ini adalah tuple (1, 'dua', True, (1+2j))\n"
          ]
        }
      ]
    },
    {
      "cell_type": "code",
      "source": [
        "#Menampilkan tipe struktur data\n",
        "type(T1)"
      ],
      "metadata": {
        "colab": {
          "base_uri": "https://localhost:8080/"
        },
        "id": "HFA1OlgmmDtK",
        "outputId": "384b950c-0f3d-4be9-b3ba-0e1b71e86e59"
      },
      "execution_count": null,
      "outputs": [
        {
          "output_type": "execute_result",
          "data": {
            "text/plain": [
              "tuple"
            ]
          },
          "metadata": {},
          "execution_count": 4
        }
      ]
    },
    {
      "cell_type": "code",
      "source": [
        "type(T11)"
      ],
      "metadata": {
        "colab": {
          "base_uri": "https://localhost:8080/"
        },
        "id": "cy3x51ujmUUk",
        "outputId": "56bda5ea-a6a9-4876-a625-b88fb38f8f44"
      },
      "execution_count": null,
      "outputs": [
        {
          "output_type": "execute_result",
          "data": {
            "text/plain": [
              "tuple"
            ]
          },
          "metadata": {},
          "execution_count": 6
        }
      ]
    },
    {
      "cell_type": "markdown",
      "source": [
        "**Sifat-sifat Tuple**"
      ],
      "metadata": {
        "id": "5DoBLetWmecS"
      }
    },
    {
      "cell_type": "code",
      "source": [
        "#Terurut/Ordered\n",
        "T1[0:3]"
      ],
      "metadata": {
        "colab": {
          "base_uri": "https://localhost:8080/"
        },
        "id": "wKEkkhv3mkUT",
        "outputId": "76edfc9c-eddd-46f8-a7df-94ce08cae42d"
      },
      "execution_count": null,
      "outputs": [
        {
          "output_type": "execute_result",
          "data": {
            "text/plain": [
              "(1, 'dua', True)"
            ]
          },
          "metadata": {},
          "execution_count": 7
        }
      ]
    },
    {
      "cell_type": "code",
      "source": [
        "#Tidak Bisa Diganti/Imutable\n",
        "T1[2] = \"manusia\""
      ],
      "metadata": {
        "colab": {
          "base_uri": "https://localhost:8080/",
          "height": 183
        },
        "id": "nPKa-g4dmwyt",
        "outputId": "fdf63999-a421-46ff-a3d7-c90da745cd0a"
      },
      "execution_count": null,
      "outputs": [
        {
          "output_type": "error",
          "ename": "TypeError",
          "evalue": "ignored",
          "traceback": [
            "\u001b[0;31m---------------------------------------------------------------------------\u001b[0m",
            "\u001b[0;31mTypeError\u001b[0m                                 Traceback (most recent call last)",
            "\u001b[0;32m<ipython-input-8-75c0a2bd1549>\u001b[0m in \u001b[0;36m<cell line: 2>\u001b[0;34m()\u001b[0m\n\u001b[1;32m      1\u001b[0m \u001b[0;31m#Tidak Bisa Diganti/Imutable\u001b[0m\u001b[0;34m\u001b[0m\u001b[0;34m\u001b[0m\u001b[0m\n\u001b[0;32m----> 2\u001b[0;31m \u001b[0mT1\u001b[0m\u001b[0;34m[\u001b[0m\u001b[0;36m2\u001b[0m\u001b[0;34m]\u001b[0m \u001b[0;34m=\u001b[0m \u001b[0;34m\"manusia\"\u001b[0m\u001b[0;34m\u001b[0m\u001b[0;34m\u001b[0m\u001b[0m\n\u001b[0m",
            "\u001b[0;31mTypeError\u001b[0m: 'tuple' object does not support item assignment"
          ]
        }
      ]
    },
    {
      "cell_type": "code",
      "source": [
        "#Dapat Diindeks/Slicing\n",
        "print(\"elemen kedua dari tupple T1 adalah:\", T1[1])"
      ],
      "metadata": {
        "colab": {
          "base_uri": "https://localhost:8080/"
        },
        "id": "30mX6oOGm-aq",
        "outputId": "3fd28822-7775-4daf-a1cc-968592befcaa"
      },
      "execution_count": null,
      "outputs": [
        {
          "output_type": "stream",
          "name": "stdout",
          "text": [
            "elemen kedua dari tupple T1 adalah: dua\n"
          ]
        }
      ]
    },
    {
      "cell_type": "code",
      "source": [
        "#Dapat Diinjiinkan Duplikasi\n",
        "T2 = (3, 2.4, True, 2.4)\n",
        "T2"
      ],
      "metadata": {
        "colab": {
          "base_uri": "https://localhost:8080/"
        },
        "id": "NKR6XsXDnSCk",
        "outputId": "e279fa2c-c31f-4176-d134-22cb7dc6611d"
      },
      "execution_count": null,
      "outputs": [
        {
          "output_type": "execute_result",
          "data": {
            "text/plain": [
              "(3, 2.4, True, 2.4)"
            ]
          },
          "metadata": {},
          "execution_count": 10
        }
      ]
    },
    {
      "cell_type": "code",
      "source": [
        "#Tdak Dapat Menambahkan Elemen Baru\n",
        "T1 = (1, \"dua\", True, 1+2j)\n",
        "print(f'tuple\\: {T1}')"
      ],
      "metadata": {
        "colab": {
          "base_uri": "https://localhost:8080/"
        },
        "id": "pmi67zBFnhnq",
        "outputId": "33f3d869-99d0-4fe3-a0c0-318e95a3005a"
      },
      "execution_count": null,
      "outputs": [
        {
          "output_type": "stream",
          "name": "stdout",
          "text": [
            "tuple\\: (1, 'dua', True, (1+2j))\n"
          ]
        }
      ]
    },
    {
      "cell_type": "code",
      "source": [
        "T1.append(10)\n",
        "T1.append(50)\n",
        "print(f' tuple\\t: {T1}')"
      ],
      "metadata": {
        "colab": {
          "base_uri": "https://localhost:8080/",
          "height": 200
        },
        "id": "a2bUWHQbn8fE",
        "outputId": "e7afef32-b15d-48b0-851e-cabaf7b83067"
      },
      "execution_count": null,
      "outputs": [
        {
          "output_type": "error",
          "ename": "AttributeError",
          "evalue": "ignored",
          "traceback": [
            "\u001b[0;31m---------------------------------------------------------------------------\u001b[0m",
            "\u001b[0;31mAttributeError\u001b[0m                            Traceback (most recent call last)",
            "\u001b[0;32m<ipython-input-15-5498d5de3a6d>\u001b[0m in \u001b[0;36m<cell line: 1>\u001b[0;34m()\u001b[0m\n\u001b[0;32m----> 1\u001b[0;31m \u001b[0mT1\u001b[0m\u001b[0;34m.\u001b[0m\u001b[0mappend\u001b[0m\u001b[0;34m(\u001b[0m\u001b[0;36m10\u001b[0m\u001b[0;34m)\u001b[0m\u001b[0;34m\u001b[0m\u001b[0;34m\u001b[0m\u001b[0m\n\u001b[0m\u001b[1;32m      2\u001b[0m \u001b[0mT1\u001b[0m\u001b[0;34m.\u001b[0m\u001b[0mappend\u001b[0m\u001b[0;34m(\u001b[0m\u001b[0;36m50\u001b[0m\u001b[0;34m)\u001b[0m\u001b[0;34m\u001b[0m\u001b[0;34m\u001b[0m\u001b[0m\n\u001b[1;32m      3\u001b[0m \u001b[0mprint\u001b[0m\u001b[0;34m(\u001b[0m\u001b[0;34mf' tuple\\t: {T1}'\u001b[0m\u001b[0;34m)\u001b[0m\u001b[0;34m\u001b[0m\u001b[0;34m\u001b[0m\u001b[0m\n",
            "\u001b[0;31mAttributeError\u001b[0m: 'tuple' object has no attribute 'append'"
          ]
        }
      ]
    },
    {
      "cell_type": "code",
      "source": [
        "#Tdak Dapat Menghapus Elemen\n",
        "T1 = (1, \"dua\", True, 1+2j)\n",
        "print(f'tuple\\: {T1}')"
      ],
      "metadata": {
        "colab": {
          "base_uri": "https://localhost:8080/"
        },
        "outputId": "6d1372db-7186-4962-f89c-54223d346ec1",
        "id": "RRb0GGiKo5BS"
      },
      "execution_count": null,
      "outputs": [
        {
          "output_type": "stream",
          "name": "stdout",
          "text": [
            "tuple\\: (1, 'dua', True, (1+2j))\n"
          ]
        }
      ]
    },
    {
      "cell_type": "code",
      "source": [],
      "metadata": {
        "id": "Z1SQqNhon7GX"
      },
      "execution_count": null,
      "outputs": []
    },
    {
      "cell_type": "code",
      "source": [
        "T1.remove(10)\n",
        "T1.remove(50)\n",
        "print(f' tuple\\t: {T1}')"
      ],
      "metadata": {
        "colab": {
          "base_uri": "https://localhost:8080/",
          "height": 200
        },
        "outputId": "42cb88c3-16c7-4004-f907-26fecdb9e7e9",
        "id": "sbAky-JxpMin"
      },
      "execution_count": null,
      "outputs": [
        {
          "output_type": "error",
          "ename": "AttributeError",
          "evalue": "ignored",
          "traceback": [
            "\u001b[0;31m---------------------------------------------------------------------------\u001b[0m",
            "\u001b[0;31mAttributeError\u001b[0m                            Traceback (most recent call last)",
            "\u001b[0;32m<ipython-input-18-6faddf617a0e>\u001b[0m in \u001b[0;36m<cell line: 1>\u001b[0;34m()\u001b[0m\n\u001b[0;32m----> 1\u001b[0;31m \u001b[0mT1\u001b[0m\u001b[0;34m.\u001b[0m\u001b[0mremove\u001b[0m\u001b[0;34m(\u001b[0m\u001b[0;36m10\u001b[0m\u001b[0;34m)\u001b[0m\u001b[0;34m\u001b[0m\u001b[0;34m\u001b[0m\u001b[0m\n\u001b[0m\u001b[1;32m      2\u001b[0m \u001b[0mT1\u001b[0m\u001b[0;34m.\u001b[0m\u001b[0mremove\u001b[0m\u001b[0;34m(\u001b[0m\u001b[0;36m50\u001b[0m\u001b[0;34m)\u001b[0m\u001b[0;34m\u001b[0m\u001b[0;34m\u001b[0m\u001b[0m\n\u001b[1;32m      3\u001b[0m \u001b[0mprint\u001b[0m\u001b[0;34m(\u001b[0m\u001b[0;34mf' tuple\\t: {T1}'\u001b[0m\u001b[0;34m)\u001b[0m\u001b[0;34m\u001b[0m\u001b[0;34m\u001b[0m\u001b[0m\n",
            "\u001b[0;31mAttributeError\u001b[0m: 'tuple' object has no attribute 'remove'"
          ]
        }
      ]
    },
    {
      "cell_type": "markdown",
      "source": [
        "**Menggabungkan Tuple**"
      ],
      "metadata": {
        "id": "nJAhvQnRpW_N"
      }
    },
    {
      "cell_type": "code",
      "source": [
        "#Menggabungkan tuple\n",
        "T3 = T1 + T2\n",
        "T3"
      ],
      "metadata": {
        "colab": {
          "base_uri": "https://localhost:8080/"
        },
        "id": "SAAMhGJFpZ-f",
        "outputId": "af9c2b07-a892-46ec-f96d-bd60a01f0797"
      },
      "execution_count": null,
      "outputs": [
        {
          "output_type": "execute_result",
          "data": {
            "text/plain": [
              "(1, 'dua', True, (1+2j), 3, 2.4, True, 2.4)"
            ]
          },
          "metadata": {},
          "execution_count": 19
        }
      ]
    },
    {
      "cell_type": "markdown",
      "source": [
        "**LATIHAN 1**"
      ],
      "metadata": {
        "id": "NbQJaSunpxXT"
      }
    },
    {
      "cell_type": "code",
      "source": [
        "#Buatlah Tuplemu sendiri\n",
        "T1 = (4, \"opet sipapasi\", False, 12+1j)\n",
        "print(\"ini adalah tupleku\", T1)"
      ],
      "metadata": {
        "colab": {
          "base_uri": "https://localhost:8080/"
        },
        "id": "0Er6MXaxpzQc",
        "outputId": "22aaeaec-7aeb-4a64-ce12-80dedc2d4021"
      },
      "execution_count": null,
      "outputs": [
        {
          "output_type": "stream",
          "name": "stdout",
          "text": [
            "ini adalah tupleku (10, 'opet sipapasi', False, (13+1j))\n"
          ]
        }
      ]
    },
    {
      "cell_type": "markdown",
      "source": [
        "**LATIHAN 2**"
      ],
      "metadata": {
        "id": "kBXT9mdNsa8M"
      }
    },
    {
      "cell_type": "code",
      "source": [
        "#Buat tuple kedua lalu digabungkan\n",
        "T2 = (12,20.3, True, 2.12)\n",
        "T2"
      ],
      "metadata": {
        "colab": {
          "base_uri": "https://localhost:8080/"
        },
        "id": "Vl9-GyS7rM1f",
        "outputId": "7761ff14-b68c-43b8-e331-b7f5ff9ffe19"
      },
      "execution_count": null,
      "outputs": [
        {
          "output_type": "execute_result",
          "data": {
            "text/plain": [
              "(12, 20.03, True, 2.12)"
            ]
          },
          "metadata": {},
          "execution_count": 28
        }
      ]
    },
    {
      "cell_type": "code",
      "source": [
        "#menggabungkan\n",
        "T3 = T1 + T2\n",
        "T3"
      ],
      "metadata": {
        "colab": {
          "base_uri": "https://localhost:8080/"
        },
        "id": "O0XFehQmsegy",
        "outputId": "c06feb79-61e2-4349-c877-f3deec242717"
      },
      "execution_count": null,
      "outputs": [
        {
          "output_type": "execute_result",
          "data": {
            "text/plain": [
              "(10, 'opet sipapasi', False, (13+1j), 12, 20.03, True, 2.12)"
            ]
          },
          "metadata": {},
          "execution_count": 30
        }
      ]
    },
    {
      "cell_type": "markdown",
      "source": [
        "**STRUKTUR DATA LIST**"
      ],
      "metadata": {
        "id": "xzL_hYNVXRRI"
      }
    },
    {
      "cell_type": "code",
      "source": [
        "#contoh list\n",
        "L1 = [1,4,2,13]\n",
        "print(type(L1))"
      ],
      "metadata": {
        "colab": {
          "base_uri": "https://localhost:8080/"
        },
        "id": "mOCHaH-uXUAM",
        "outputId": "49dc73aa-f627-4817-b751-2e0d1bbe6c78"
      },
      "execution_count": 1,
      "outputs": [
        {
          "output_type": "stream",
          "name": "stdout",
          "text": [
            "<class 'list'>\n"
          ]
        }
      ]
    },
    {
      "cell_type": "code",
      "source": [
        "L2 = ['a','python',3]\n",
        "print(type(L2))"
      ],
      "metadata": {
        "colab": {
          "base_uri": "https://localhost:8080/"
        },
        "id": "OdnUxTtJXqXs",
        "outputId": "e265e978-4c06-4b8e-c85c-1425eb320400"
      },
      "execution_count": 3,
      "outputs": [
        {
          "output_type": "stream",
          "name": "stdout",
          "text": [
            "<class 'list'>\n"
          ]
        }
      ]
    },
    {
      "cell_type": "code",
      "source": [
        "print(L1)\n",
        "print(L2)"
      ],
      "metadata": {
        "colab": {
          "base_uri": "https://localhost:8080/"
        },
        "id": "ar27N4YOX5wk",
        "outputId": "d5d86012-0cee-4c6c-a713-6ecb4d490285"
      },
      "execution_count": 4,
      "outputs": [
        {
          "output_type": "stream",
          "name": "stdout",
          "text": [
            "[1, 4, 2, 13]\n",
            "['a', 'python', 3]\n"
          ]
        }
      ]
    },
    {
      "cell_type": "code",
      "source": [
        "#sifat-sifat list\n",
        "\n",
        "#terurut/ordered\n",
        "print('memanggil list L1 dengan indeks urutan:', L1[0:3])\n",
        "\n",
        "#bisa diganti/mutable\n",
        "L1[1] = 2\n",
        "print('list L1 seelah diganti elemennya:', L1)\n",
        "L1 = [1,'dua',True,2+3j]\n",
        "\n",
        "#dapat diindeks/slicing\n",
        "print('slicing list L1:', L1[3])\n",
        "\n",
        "#dapat diijinkan dupllikasi\n",
        "L1 = [1,'dua',True,2+3j]\n",
        "print('duplikasi pada list L1:', L1)\n",
        "\n",
        "#dapat mengubah data dengan mengganti elemen\n",
        "L1 = [1,'dua',True,2+3j,2+3j]\n",
        "L1[2]=3\n",
        "print('data setelah diubah:',L1)\n",
        "\n",
        "#dapat menambahkan elemen baru pada data\n",
        "L1 = [1,'dua',True,2+3j]\n",
        "L1.append(20)\n",
        "print('data setelah ditambah elemennya:',L1)\n",
        "\n",
        "#dapat menghapus elemen pada data\n",
        "L1 = [1,'dua',True,2+3j]\n",
        "L1.remove(2+3j)\n",
        "print('data setelah dihapus elemennya:',L1)"
      ],
      "metadata": {
        "colab": {
          "base_uri": "https://localhost:8080/"
        },
        "id": "Nezqg3BsX-GN",
        "outputId": "9eadb5e7-d55e-47a2-d6c7-ce9ec084fa50"
      },
      "execution_count": 10,
      "outputs": [
        {
          "output_type": "stream",
          "name": "stdout",
          "text": [
            "memanggil list L1 dengan indeks urutan: [1, 'dua', True]\n",
            "list L1 seelah diganti elemennya: [1, 2, True, (2+3j), (2+3j), 20]\n",
            "slicing list L1: (2+3j)\n",
            "duplikasi pada list L1: [1, 'dua', True, (2+3j)]\n",
            "data setelah diubah: [1, 'dua', 3, (2+3j), (2+3j)]\n",
            "data setelah ditambah elemennya: [1, 'dua', True, (2+3j), 20]\n",
            "data setelah dihapus elemennya: [1, 'dua', True]\n"
          ]
        }
      ]
    },
    {
      "cell_type": "code",
      "source": [
        "#menanmbahkan data menggunakan fungsi extend\n",
        "L1 = [1,'dua',True,2+3j]\n",
        "L1.extend('nanas')\n",
        "print(L1)"
      ],
      "metadata": {
        "colab": {
          "base_uri": "https://localhost:8080/"
        },
        "id": "CICqADktaln5",
        "outputId": "a66d68b1-3b1d-426f-b82f-95eca4787d71"
      },
      "execution_count": 11,
      "outputs": [
        {
          "output_type": "stream",
          "name": "stdout",
          "text": [
            "[1, 'dua', True, (2+3j), 'n', 'a', 'n', 'a', 's']\n"
          ]
        }
      ]
    },
    {
      "cell_type": "code",
      "source": [
        "L1 = [1,'dua',True,2+3j]\n",
        "L1.extend(['nanas'])\n",
        "print(L1)"
      ],
      "metadata": {
        "colab": {
          "base_uri": "https://localhost:8080/"
        },
        "id": "mUtgqbDpbLUX",
        "outputId": "eb6a1d8b-50c3-44a1-ddc6-7403deae7def"
      },
      "execution_count": 14,
      "outputs": [
        {
          "output_type": "stream",
          "name": "stdout",
          "text": [
            "[1, 'dua', True, (2+3j), 'nanas']\n"
          ]
        }
      ]
    },
    {
      "cell_type": "code",
      "source": [
        "#menambahkkan data menggunakan fungsi insert\n",
        "L1 = [1,'dua',True,2+3j]\n",
        "L1.insert(2,5)\n",
        "print(L1)"
      ],
      "metadata": {
        "colab": {
          "base_uri": "https://localhost:8080/"
        },
        "id": "Z4GU8g4idn3Z",
        "outputId": "3ac95a09-0273-4fc1-cda7-55141d1a19d5"
      },
      "execution_count": 15,
      "outputs": [
        {
          "output_type": "stream",
          "name": "stdout",
          "text": [
            "[1, 'dua', 5, True, (2+3j)]\n"
          ]
        }
      ]
    },
    {
      "cell_type": "code",
      "source": [
        "#menghapus elemen dari list menggunkan fungsi pop\n",
        "L1 = [1,'dua',True,2+3j]\n",
        "L1.pop(2)\n",
        "print(L1)"
      ],
      "metadata": {
        "colab": {
          "base_uri": "https://localhost:8080/"
        },
        "id": "CUjjtE6LeE6s",
        "outputId": "a867f245-17e3-4bdb-f535-0f6685b582f0"
      },
      "execution_count": 16,
      "outputs": [
        {
          "output_type": "stream",
          "name": "stdout",
          "text": [
            "[1, 'dua', (2+3j)]\n"
          ]
        }
      ]
    },
    {
      "cell_type": "code",
      "source": [
        "L1 = [1,'dua',True,2+3j]\n",
        "L1.pop()\n",
        "print(L1)"
      ],
      "metadata": {
        "colab": {
          "base_uri": "https://localhost:8080/"
        },
        "id": "bFfzobceed0D",
        "outputId": "18cc7f64-732e-4ef0-c41f-4f54acad675f"
      },
      "execution_count": 17,
      "outputs": [
        {
          "output_type": "stream",
          "name": "stdout",
          "text": [
            "[1, 'dua', True]\n"
          ]
        }
      ]
    },
    {
      "cell_type": "markdown",
      "source": [
        "**Latihan 1**"
      ],
      "metadata": {
        "id": "lThLwN-HeqfF"
      }
    },
    {
      "cell_type": "code",
      "source": [
        "#buat list sendiri\n",
        "L1 = [4,'kalkulus',True, 3+12j]\n",
        "print(L1)"
      ],
      "metadata": {
        "colab": {
          "base_uri": "https://localhost:8080/"
        },
        "id": "A4uAcFG9euQT",
        "outputId": "eead2693-0f03-4e8f-9d8a-f12e238604a1"
      },
      "execution_count": 1,
      "outputs": [
        {
          "output_type": "stream",
          "name": "stdout",
          "text": [
            "[4, 'kalkulus', True, (3+12j)]\n"
          ]
        }
      ]
    },
    {
      "cell_type": "markdown",
      "source": [
        "**Latihan 2**"
      ],
      "metadata": {
        "id": "yHnZV__U_DpU"
      }
    },
    {
      "cell_type": "code",
      "source": [
        "L1 = [4,'kalkulus',True, 3+12j]\n",
        "print(L1)\n",
        "\n",
        "#ganti elemen\n",
        "L1[2] = 'pisang'\n",
        "print('List L1 setelah diganti elemennya:', L1)\n",
        "\n",
        "L1[3] = 9\n",
        "print('data setelah diubah:', L1)\n",
        "\n",
        "L1.append('garong')\n",
        "print('data  setelah ditambah elemennya:', L1)"
      ],
      "metadata": {
        "colab": {
          "base_uri": "https://localhost:8080/"
        },
        "id": "5TMNyZTn_B5r",
        "outputId": "29ae304a-e6e3-4063-af8a-95b45e394006"
      },
      "execution_count": 9,
      "outputs": [
        {
          "output_type": "stream",
          "name": "stdout",
          "text": [
            "[4, 'kalkulus', True, (3+12j)]\n",
            "List L1 setelah diganti elemennya: [4, 'kalkulus', 'pisang', (3+12j)]\n",
            "data setelah diubah: [4, 'kalkulus', 'pisang', 9]\n",
            "data  setelah ditambah elemennya: [4, 'kalkulus', 'pisang', 9, 'garong']\n"
          ]
        }
      ]
    }
  ]
}